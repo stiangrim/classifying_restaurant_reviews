{
 "cells": [
  {
   "cell_type": "code",
   "execution_count": 1,
   "metadata": {},
   "outputs": [
    {
     "name": "stderr",
     "output_type": "stream",
     "text": [
      "Using TensorFlow backend.\n"
     ]
    }
   ],
   "source": [
    "import pickle\n",
    "from keras.models import Sequential\n",
    "from keras.layers import Embedding, Dense, LSTM\n",
    "from keras.preprocessing.sequence import pad_sequences"
   ]
  },
  {
   "cell_type": "code",
   "execution_count": 2,
   "metadata": {},
   "outputs": [],
   "source": [
    "# Set variables\n",
    "data = pickle.load(open(\"TDT4171-Ex5/keras-data.pickle\", \"rb\"))\n",
    "x_train = data['x_train']\n",
    "y_train = data['y_train']\n",
    "x_test = data['x_test']\n",
    "y_test = data['y_test']\n",
    "vocab_size = data['vocab_size']\n",
    "max_length = data['max_length']"
   ]
  },
  {
   "cell_type": "code",
   "execution_count": 3,
   "metadata": {},
   "outputs": [],
   "source": [
    "# Do padding\n",
    "max_length = 200\n",
    "x_train = pad_sequences(sequences=x_train, maxlen=max_length)\n",
    "x_test = pad_sequences(sequences=x_test, maxlen=max_length)"
   ]
  },
  {
   "cell_type": "code",
   "execution_count": 4,
   "metadata": {},
   "outputs": [
    {
     "name": "stdout",
     "output_type": "stream",
     "text": [
      "WARNING:tensorflow:From /usr/local/lib/python3.7/site-packages/tensorflow/python/framework/op_def_library.py:263: colocate_with (from tensorflow.python.framework.ops) is deprecated and will be removed in a future version.\n",
      "Instructions for updating:\n",
      "Colocations handled automatically by placer.\n",
      "WARNING:tensorflow:From /usr/local/lib/python3.7/site-packages/keras/backend/tensorflow_backend.py:3445: calling dropout (from tensorflow.python.ops.nn_ops) with keep_prob is deprecated and will be removed in a future version.\n",
      "Instructions for updating:\n",
      "Please use `rate` instead of `keep_prob`. Rate should be set to `rate = 1 - keep_prob`.\n"
     ]
    }
   ],
   "source": [
    "# Creating the model\n",
    "model = Sequential()\n",
    "model.add(Embedding(input_dim=vocab_size, output_dim=50, input_length=max_length))\n",
    "model.add(LSTM(units=50, dropout=0.2))\n",
    "model.add(Dense(units=1, activation='sigmoid'))\n",
    "model.compile(optimizer='rmsprop', loss='binary_crossentropy', metrics=['accuracy'])"
   ]
  },
  {
   "cell_type": "code",
   "execution_count": 5,
   "metadata": {
    "scrolled": true
   },
   "outputs": [
    {
     "name": "stdout",
     "output_type": "stream",
     "text": [
      "WARNING:tensorflow:From /usr/local/lib/python3.7/site-packages/tensorflow/python/ops/math_ops.py:3066: to_int32 (from tensorflow.python.ops.math_ops) is deprecated and will be removed in a future version.\n",
      "Instructions for updating:\n",
      "Use tf.cast instead.\n",
      "Epoch 1/10\n",
      "393053/393053 [==============================] - 293s 746us/step - loss: 0.2525 - acc: 0.8960\n",
      "Epoch 2/10\n",
      "393053/393053 [==============================] - 293s 745us/step - loss: 0.1843 - acc: 0.9268\n",
      "Epoch 3/10\n",
      "393053/393053 [==============================] - 294s 747us/step - loss: 0.1678 - acc: 0.9334\n",
      "Epoch 4/10\n",
      "393053/393053 [==============================] - 303s 772us/step - loss: 0.1575 - acc: 0.9376\n",
      "Epoch 5/10\n",
      "393053/393053 [==============================] - 319s 811us/step - loss: 0.1504 - acc: 0.9409\n",
      "Epoch 6/10\n",
      "393053/393053 [==============================] - 300s 763us/step - loss: 0.1439 - acc: 0.9438\n",
      "Epoch 7/10\n",
      "393053/393053 [==============================] - 305s 775us/step - loss: 0.1386 - acc: 0.9460\n",
      "Epoch 8/10\n",
      "393053/393053 [==============================] - 299s 762us/step - loss: 0.1347 - acc: 0.9475\n",
      "Epoch 9/10\n",
      "393053/393053 [==============================] - 299s 761us/step - loss: 0.1308 - acc: 0.9492\n",
      "Epoch 10/10\n",
      "393053/393053 [==============================] - 308s 782us/step - loss: 0.1274 - acc: 0.9510\n"
     ]
    },
    {
     "data": {
      "text/plain": [
       "<keras.callbacks.History at 0x1341a0780>"
      ]
     },
     "execution_count": 5,
     "metadata": {},
     "output_type": "execute_result"
    }
   ],
   "source": [
    "# Fit model\n",
    "model.fit(x_train, y_train, epochs=10, batch_size=128, verbose=1)"
   ]
  },
  {
   "cell_type": "code",
   "execution_count": 6,
   "metadata": {},
   "outputs": [
    {
     "name": "stdout",
     "output_type": "stream",
     "text": [
      "130528/130528 [==============================] - 63s 484us/step\n"
     ]
    },
    {
     "data": {
      "text/plain": [
       "[0.14883835668969908, 0.942740254964452]"
      ]
     },
     "execution_count": 6,
     "metadata": {},
     "output_type": "execute_result"
    }
   ],
   "source": [
    "# Evaluate model\n",
    "model.evaluate(x_test, y_test, verbose=1)"
   ]
  },
  {
   "cell_type": "code",
   "execution_count": null,
   "metadata": {},
   "outputs": [],
   "source": []
  }
 ],
 "metadata": {
  "kernelspec": {
   "display_name": "Python 3",
   "language": "python",
   "name": "python3"
  },
  "language_info": {
   "codemirror_mode": {
    "name": "ipython",
    "version": 3
   },
   "file_extension": ".py",
   "mimetype": "text/x-python",
   "name": "python",
   "nbconvert_exporter": "python",
   "pygments_lexer": "ipython3",
   "version": "3.7.2"
  }
 },
 "nbformat": 4,
 "nbformat_minor": 2
}
